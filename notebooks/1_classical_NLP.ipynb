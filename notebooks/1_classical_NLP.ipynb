{
 "cells": [
  {
   "cell_type": "markdown",
   "metadata": {},
   "source": [
    "This notebook implements a basic workflow to train and evaluate a model to classify the IMDB movie reviews. Note that there are many important aspects not covered, see a tentative list of extensions at the end."
   ]
  },
  {
   "cell_type": "code",
   "execution_count": 13,
   "metadata": {},
   "outputs": [],
   "source": [
    "from sklearn.linear_model import LogisticRegression\n",
    "from sklearn.feature_extraction.text import TfidfVectorizer\n",
    "from sklearn.pipeline import Pipeline\n",
    "from sklearn.model_selection import train_test_split, KFold, cross_validate\n",
    "from sklearn.metrics import (\n",
    "    confusion_matrix, \n",
    "    accuracy_score\n",
    "    make_scorer, \n",
    "    roc_curve,\n",
    ")\n",
    "import seaborn as sns\n",
    "import pandas as pd\n",
    "import matplotlib.pyplot as plt\n",
    "import joblib\n",
    "import os, re\n",
    "\n",
    "from pathlib import Path\n",
    "pd.set_option('display.max_colwidth', 200)"
   ]
  },
  {
   "cell_type": "markdown",
   "metadata": {},
   "source": [
    "## 1. Load and prepare data"
   ]
  },
  {
   "cell_type": "markdown",
   "metadata": {},
   "source": [
    "Download and extract the data somewhere in your machine\n",
    "\n",
    "```\n",
    "!wget http://ai.stanford.edu/~amaas/data/sentiment/aclImdb_v1.tar.gz\n",
    "!mv aclImdb_v1.tar.gz some_folder_you_like\n",
    "!tar -zxf some_folder_you_like/aclImdb_v1.tar.gz -C some_folder_you_like\n",
    "```\n",
    "\n",
    "Then add a symlink to connect that folder to `data/external`. For example:\n",
    "\n",
    "```\n",
    "ln -s  ~/Documents/Marc/datasets/aclImdb data/external\n",
    "```"
   ]
  },
  {
   "cell_type": "code",
   "execution_count": 2,
   "metadata": {},
   "outputs": [],
   "source": [
    "def read_and_dump_pos_neg_texts(data_dir, dump_filename):\n",
    "    pos_texts, neg_texts = [], []\n",
    "    for file in data_dir.glob(f\"pos/*txt\"):\n",
    "        with open(file, \"r\") as f:\n",
    "            pos_texts.append(f.read())\n",
    "    for file in data_dir.glob(f\"neg/*txt\"):\n",
    "        with open(file, \"r\") as f:\n",
    "            neg_texts.append(f.read())\n",
    "\n",
    "    df = pd.DataFrame({\"text\": pos_texts + neg_texts, \"label\": 0})\n",
    "    df.iloc[:len(pos_texts), 1] = 1\n",
    "    joblib.dump(df, dump_filename)\n",
    "    return df"
   ]
  },
  {
   "cell_type": "code",
   "execution_count": 3,
   "metadata": {},
   "outputs": [],
   "source": [
    "PATH_EXTERNAL = Path(\"../data/external/aclImdb/\")\n",
    "PATH_INTERNAL = Path(\"../data/interim/\")\n",
    "DIR_TRAIN = PATH_EXTERNAL / \"train\"\n",
    "DIR_TEST = PATH_EXTERNAL / \"test\"\n",
    "DATA_TRAIN_FILENAME = PATH_INTERNAL / \"train.joblib\"\n",
    "DATA_TEST_FILENAME = PATH_INTERNAL / \"test.joblib\"\n",
    "\n",
    "if not os.path.exists(DATA_TRAIN_FILENAME):\n",
    "    df_train = read_and_dump_pos_neg_texts(DIR_TRAIN, DATA_TRAIN_FILENAME)\n",
    "    df_test = read_and_dump_pos_neg_texts(DIR_TEST, DATA_TEST_FILENAME)\n",
    "else:\n",
    "    df_train = joblib.load(DATA_TRAIN_FILENAME)\n",
    "    df_test = joblib.load(DATA_TEST_FILENAME)"
   ]
  },
  {
   "cell_type": "code",
   "execution_count": 4,
   "metadata": {},
   "outputs": [
    {
     "data": {
      "text/plain": [
       "'For a movie that gets no respect there sure are a lot of memorable quotes listed for this gem. Imagine a movie where Joe Piscopo is actually funny! Maureen Stapleton is a scene stealer. The Moroni character is an absolute scream. Watch for Alan \"The Skipper\" Hale jr. as a police Sgt.'"
      ]
     },
     "execution_count": 4,
     "metadata": {},
     "output_type": "execute_result"
    }
   ],
   "source": [
    "df_train.text[0]"
   ]
  },
  {
   "cell_type": "code",
   "execution_count": 5,
   "metadata": {},
   "outputs": [
    {
     "name": "stdout",
     "output_type": "stream",
     "text": [
      "(25000, 2)\n"
     ]
    },
    {
     "data": {
      "text/html": [
       "<div>\n",
       "<style scoped>\n",
       "    .dataframe tbody tr th:only-of-type {\n",
       "        vertical-align: middle;\n",
       "    }\n",
       "\n",
       "    .dataframe tbody tr th {\n",
       "        vertical-align: top;\n",
       "    }\n",
       "\n",
       "    .dataframe thead th {\n",
       "        text-align: right;\n",
       "    }\n",
       "</style>\n",
       "<table border=\"1\" class=\"dataframe\">\n",
       "  <thead>\n",
       "    <tr style=\"text-align: right;\">\n",
       "      <th></th>\n",
       "      <th>text</th>\n",
       "      <th>label</th>\n",
       "    </tr>\n",
       "  </thead>\n",
       "  <tbody>\n",
       "    <tr>\n",
       "      <th>2082</th>\n",
       "      <td>A number of factors make it easy for me to state that I still think this is the most important science fiction film ever made, despite some of the acting, outdated dialogue etc.&lt;br /&gt;&lt;br /&gt;First, ...</td>\n",
       "      <td>1</td>\n",
       "    </tr>\n",
       "    <tr>\n",
       "      <th>19058</th>\n",
       "      <td>I can say nothing more about this movie than: Man, this SUCKS!!!!! If you really hate yourself and want to do some severe damage to your brain, watch this movie. It's the best cure in the world fo...</td>\n",
       "      <td>0</td>\n",
       "    </tr>\n",
       "    <tr>\n",
       "      <th>24485</th>\n",
       "      <td>I saw this movie twice. I can't believe Pintilie made such a fantasy movie. I'm also a movie/theatre director and I know what I speak. This is not Romania anymore, but I see the events are happeni...</td>\n",
       "      <td>0</td>\n",
       "    </tr>\n",
       "    <tr>\n",
       "      <th>9206</th>\n",
       "      <td>This movie is the best horror movie, bar-none.I love how Stanley just dumps the women into the lake.I have been a fan of Judd Nelson's work for many years, and he blew me away. Its a blend of horr...</td>\n",
       "      <td>1</td>\n",
       "    </tr>\n",
       "    <tr>\n",
       "      <th>16432</th>\n",
       "      <td>What a bad, bad film!!! I can't believe all the hype that has been lavished on this pretentious, amateurish excuse for a real movie!! I left the theater before the end, stunned by how bad the dire...</td>\n",
       "      <td>0</td>\n",
       "    </tr>\n",
       "  </tbody>\n",
       "</table>\n",
       "</div>"
      ],
      "text/plain": [
       "                                                                                                                                                                                                          text  \\\n",
       "2082   A number of factors make it easy for me to state that I still think this is the most important science fiction film ever made, despite some of the acting, outdated dialogue etc.<br /><br />First, ...   \n",
       "19058  I can say nothing more about this movie than: Man, this SUCKS!!!!! If you really hate yourself and want to do some severe damage to your brain, watch this movie. It's the best cure in the world fo...   \n",
       "24485  I saw this movie twice. I can't believe Pintilie made such a fantasy movie. I'm also a movie/theatre director and I know what I speak. This is not Romania anymore, but I see the events are happeni...   \n",
       "9206   This movie is the best horror movie, bar-none.I love how Stanley just dumps the women into the lake.I have been a fan of Judd Nelson's work for many years, and he blew me away. Its a blend of horr...   \n",
       "16432  What a bad, bad film!!! I can't believe all the hype that has been lavished on this pretentious, amateurish excuse for a real movie!! I left the theater before the end, stunned by how bad the dire...   \n",
       "\n",
       "       label  \n",
       "2082       1  \n",
       "19058      0  \n",
       "24485      0  \n",
       "9206       1  \n",
       "16432      0  "
      ]
     },
     "execution_count": 5,
     "metadata": {},
     "output_type": "execute_result"
    },
    {
     "data": {
      "image/png": "[encoded data removed]",
      "text/plain": [
       "<Figure size 720x432 with 1 Axes>"
      ]
     },
     "metadata": {},
     "output_type": "display_data"
    }
   ],
   "source": [
    "sns.set(rc={'figure.figsize':(10, 6)})\n",
    "df_train.label.hist(bins=2)\n",
    "print(df_train.shape)\n",
    "df_train.sample(5)"
   ]
  },
  {
   "cell_type": "markdown",
   "metadata": {},
   "source": [
    "We can see that this is a perfectly balanced dataset, as explained in the data description."
   ]
  },
  {
   "cell_type": "markdown",
   "metadata": {},
   "source": [
    "## 2. Data representation"
   ]
  },
  {
   "cell_type": "markdown",
   "metadata": {},
   "source": [
    "We need a translation from raw input (in our case the text for the movie review) to some representation the model can learn from. We'll do this by employing a Bag of Words approach, using a TF-IDF representation."
   ]
  },
  {
   "cell_type": "code",
   "execution_count": 6,
   "metadata": {},
   "outputs": [],
   "source": [
    "tfidf_vectorizer = TfidfVectorizer(stop_words=\"english\", min_df=3)"
   ]
  },
  {
   "cell_type": "markdown",
   "metadata": {},
   "source": [
    "## 3. Model fitting and evaluation"
   ]
  },
  {
   "cell_type": "markdown",
   "metadata": {},
   "source": [
    "I will use Logistic Regression (LR), as it's proved to give strong baselines. Other ideas are proposed at the end. Given that this is a balanced dataset, I will measure accuracy, true positive rate (TPR), and true negative rate (TNR)."
   ]
  },
  {
   "cell_type": "code",
   "execution_count": 7,
   "metadata": {},
   "outputs": [],
   "source": [
    "X, y = df_train.text, df_train.label"
   ]
  },
  {
   "cell_type": "code",
   "execution_count": 9,
   "metadata": {},
   "outputs": [],
   "source": [
    "accuracy = make_scorer(accuracy_score)\n",
    "tpr = make_scorer(recall_score)\n",
    "\n",
    "def tnr(y_true, y_pred):\n",
    "    tn, fp, fn, tp = confusion_matrix(y_true, y_pred).ravel()\n",
    "    return tn / (tn + fp)\n",
    "tnr_scorer = make_scorer(tnr)\n",
    "scoring = {\"accuracy\": accuracy, \"tpr\": tpr, \"tnr\": tnr_scorer}"
   ]
  },
  {
   "cell_type": "markdown",
   "metadata": {},
   "source": [
    "Let's see how our model performs for a simple pipeline with TF-IDF + LR for 3-fold CV"
   ]
  },
  {
   "cell_type": "code",
   "execution_count": 10,
   "metadata": {},
   "outputs": [
    {
     "name": "stderr",
     "output_type": "stream",
     "text": [
      "[Parallel(n_jobs=3)]: Using backend LokyBackend with 3 concurrent workers.\n",
      "[Parallel(n_jobs=3)]: Done   3 out of   3 | elapsed:   18.8s finished\n"
     ]
    },
    {
     "data": {
      "text/plain": [
       "{'fit_time': array([7.85820413, 7.93644595, 7.4181819 ]),\n",
       " 'score_time': array([2.52509499, 2.53599119, 2.57322383]),\n",
       " 'test_accuracy': array([0.88828894, 0.88311532, 0.88059522]),\n",
       " 'train_accuracy': array([0.93591744, 0.93760125, 0.93772125]),\n",
       " 'test_tpr': array([0.90026564, 0.89894129, 0.8974542 ]),\n",
       " 'train_tpr': array([0.94496949, 0.94822627, 0.94612511]),\n",
       " 'test_tnr': array([0.87646077, 0.86736893, 0.86343826]),\n",
       " 'train_tnr': array([0.92680872, 0.92694942, 0.92939068])}"
      ]
     },
     "execution_count": 10,
     "metadata": {},
     "output_type": "execute_result"
    }
   ],
   "source": [
    "# without bigrams\n",
    "tfidf_vectorizer.set_params(ngram_range=(1, 1))\n",
    "pipeline = Pipeline([\n",
    "    (\"tfidf\", tfidf_vectorizer), \n",
    "    (\"lr\", LogisticRegression(class_weight=\"balanced\", solver=\"lbfgs\"))\n",
    "])\n",
    "cross_validate(pipeline, X, y, scoring=scoring , cv=KFold(3, shuffle=True, random_state=23), \n",
    "               return_train_score=True, n_jobs=3, verbose=True)"
   ]
  },
  {
   "cell_type": "code",
   "execution_count": 14,
   "metadata": {},
   "outputs": [
    {
     "data": {
      "text/plain": [
       "{'fit_time': array([11.47819924, 11.6596067 , 11.10407996]),\n",
       " 'score_time': array([2.00133181, 1.96102405, 2.05256486]),\n",
       " 'test_accuracy': array([0.8899688 , 0.88275531, 0.87951518]),\n",
       " 'train_accuracy': array([0.949898  , 0.95062099, 0.950201  ]),\n",
       " 'test_tpr': array([0.90340497, 0.9006256 , 0.8974542 ]),\n",
       " 'train_tpr': array([0.95705228, 0.95949185, 0.95781608]),\n",
       " 'test_tnr': array([0.87669926, 0.86497486, 0.86125908]),\n",
       " 'train_tnr': array([0.94269893, 0.94172774, 0.94265233])}"
      ]
     },
     "execution_count": 14,
     "metadata": {},
     "output_type": "execute_result"
    }
   ],
   "source": [
    "# with bigrams\n",
    "tfidf_vectorizer.set_params(ngram_range=(1, 2))\n",
    "pipeline = Pipeline([\n",
    "    (\"tfidf\", tfidf_vectorizer), \n",
    "    (\"lr\", LogisticRegression(class_weight=\"balanced\", solver=\"lbfgs\"))\n",
    "])\n",
    "cross_validate(\n",
    "    pipeline, X, y, scoring=scoring , cv=KFold(3, shuffle=True, random_state=23), \n",
    "    return_train_score=True, n_jobs=3)"
   ]
  },
  {
   "cell_type": "markdown",
   "metadata": {},
   "source": [
    "We can see how bigrams improve a bit the predictive power, at the cost of fit and score time. This would be one of the possible hyper-parameters to optimise. I will stick to just unigrams for simplicity. Besides, it looks like all folds are similar, so from here I will just do train-test and analyse whether we can calibrate a better threshold than the default 0.5."
   ]
  },
  {
   "cell_type": "markdown",
   "metadata": {},
   "source": [
    "# Decision Threshold calibration"
   ]
  },
  {
   "cell_type": "markdown",
   "metadata": {},
   "source": [
    "Here I'm just showing a proof-of-concept about how to do calibration. This can be done better, e.g. nested cross-validation, and there's work right now in sklearn around this, see https://github.com/scikit-learn/scikit-learn/pull/10117.\n",
    "\n",
    "(actually I already contributed to that PR discussion and planning to contribute with code if this continues being stuck 😊)"
   ]
  },
  {
   "cell_type": "code",
   "execution_count": 48,
   "metadata": {},
   "outputs": [],
   "source": [
    "X_train, X_val, y_train, y_val = train_test_split(\n",
    "    X, y, train_size=0.6, test_size=0.4, stratify=y, random_state=23\n",
    ")\n",
    "tfidf_vectorizer.set_params(ngram_range=(1, 1))\n",
    "pipeline = Pipeline([\n",
    "    (\"tfidf\", tfidf_vectorizer), \n",
    "    (\"lr\", LogisticRegression(class_weight=\"balanced\", solver=\"lbfgs\"))\n",
    "])\n",
    "pipeline.fit(X_train, y_train)\n",
    "prob_val = pipeline.predict_proba(X_val)"
   ]
  },
  {
   "cell_type": "code",
   "execution_count": 56,
   "metadata": {},
   "outputs": [
    {
     "name": "stdout",
     "output_type": "stream",
     "text": [
      "0.5000442538777586 0.1324 0.8676 0.8996 0.8835999999999999\n",
      "0.5318268910415737 0.1094 0.8906000000000001 0.8778 0.8842000000000001\n"
     ]
    },
    {
     "data": {
      "text/plain": [
       "<matplotlib.collections.PathCollection at 0x122e1a0d0>"
      ]
     },
     "execution_count": 56,
     "metadata": {},
     "output_type": "execute_result"
    },
    {
     "data": {
      "image/png": "[encoded data removed]",
      "text/plain": [
       "<Figure size 720x648 with 1 Axes>"
      ]
     },
     "metadata": {},
     "output_type": "display_data"
    }
   ],
   "source": [
    "fpr, tpr, thresholds = roc_curve(y_val, prob_val[:, 1])\n",
    "idx = np.abs(thresholds - 0.5).argmin()\n",
    "print(thresholds[idx], fpr[idx], 1 - fpr[idx], tpr[idx], (1 - fpr[idx] + tpr[idx]) / 2)\n",
    "idx = (tpr + 1 - fpr).argmax()\n",
    "optimal_threshold = thresholds[idx]\n",
    "print(optimal_threshold, fpr[idx], 1 - fpr[idx], tpr[idx], (1 - fpr[idx] + tpr[idx]) / 2)\n",
    "plt.figure(figsize=(10, 9))\n",
    "plt.plot(fpr[::30], tpr[::30], \"*\")\n",
    "plt.scatter(fpr[idx], tpr[idx], c=\"r\", s=100)"
   ]
  },
  {
   "cell_type": "markdown",
   "metadata": {},
   "source": [
    "From the ROC curve and the numbers above we can see that 0.53 seems to be better than 0.5 in terms of accuracy. The difference is not dramatical anyways. Let's use this threshold and check that we get the same numbers."
   ]
  },
  {
   "cell_type": "code",
   "execution_count": 57,
   "metadata": {},
   "outputs": [
    {
     "name": "stdout",
     "output_type": "stream",
     "text": [
      "0.8842\n"
     ]
    },
    {
     "data": {
      "text/plain": [
       "<matplotlib.axes._subplots.AxesSubplot at 0x120566f90>"
      ]
     },
     "execution_count": 57,
     "metadata": {},
     "output_type": "execute_result"
    },
    {
     "data": {
      "image/png": "[encoded data removed]",
      "text/plain": [
       "<Figure size 720x432 with 2 Axes>"
      ]
     },
     "metadata": {},
     "output_type": "display_data"
    }
   ],
   "source": [
    "pred_val = (prob_val[:, 1] >= optimal_threshold).astype(int)\n",
    "cm = confusion_matrix(y_val, pred_val)\n",
    "print(accuracy_score(y_val, pred_val))\n",
    "df_cm = pd.DataFrame(\n",
    "    cm, \n",
    "    index = [\"TRUE_NEG\", \"TRUE_POS\"], \n",
    "    columns = [\"PRED_NEG\", \"PRED_POS\"]\n",
    ")\n",
    "sns.heatmap(df_cm.T, annot=True, annot_kws={\"size\": 15}, cmap='Blues', fmt='g')"
   ]
  },
  {
   "cell_type": "markdown",
   "metadata": {},
   "source": [
    "And now I will use this for the test set:"
   ]
  },
  {
   "cell_type": "code",
   "execution_count": 58,
   "metadata": {},
   "outputs": [
    {
     "name": "stdout",
     "output_type": "stream",
     "text": [
      "0.87488\n",
      "0.87244\n"
     ]
    },
    {
     "data": {
      "text/plain": [
       "<matplotlib.axes._subplots.AxesSubplot at 0x11fe8b290>"
      ]
     },
     "execution_count": 58,
     "metadata": {},
     "output_type": "execute_result"
    },
    {
     "data": {
      "image/png": "[encoded data removed]",
      "text/plain": [
       "<Figure size 720x432 with 2 Axes>"
      ]
     },
     "metadata": {},
     "output_type": "display_data"
    }
   ],
   "source": [
    "X_test, y_test = df_test.text, df_test.label\n",
    "prob_test = pipeline.predict_proba(X_test)\n",
    "pred_test = (prob_test[:, 1] >= 0.5).astype(int)\n",
    "print(accuracy_score(y_test, pred_test))\n",
    "pred_test = (prob_test[:, 1] >= optimal_threshold).astype(int)\n",
    "print(accuracy_score(y_test, pred_test))\n",
    "\n",
    "cm = confusion_matrix(y_val, pred_val)\n",
    "df_cm = pd.DataFrame(\n",
    "    cm, \n",
    "    index = [\"TRUE_NEG\", \"TRUE_POS\"], \n",
    "    columns = [\"PRED_NEG\", \"PRED_POS\"]\n",
    ")\n",
    "sns.heatmap(df_cm.T, annot=True, annot_kws={\"size\": 15}, cmap='Blues', fmt='g')"
   ]
  },
  {
   "cell_type": "markdown",
   "metadata": {},
   "source": [
    "We can see that for this particular test set the original threshold was better indeed. Notice that from here we would NOT change the threshold back to 0.5, as otherwise we would be using the test set to tune our model!"
   ]
  },
  {
   "cell_type": "markdown",
   "metadata": {},
   "source": [
    "## Further work\n",
    "\n",
    "Some more ideas or directions to explore for the future (keep in mind that all these assume we use classical NLP, all ideas about a Deep Learning approach will go to the Colab Notebook https://colab.research.google.com/drive/1YUewI5gALb78zVKD0FHtbI7KI3nEwT5y):\n",
    "\n",
    "- Cleaning data: even though it's usually the most boring part of ML & NLP, cleaning data might be very useful to help the model stop focusing on noise. For example, in some NLP problems one wants to remove preambles, signatures, distracting single quotes, extra space, etc. Another example of data cleaning includes lemmatisation, allowing to aggregate important words referring to the same concept altogether. One way to notice about these kind of things is to perform a feature importance analysis after training the model, e.g. by looking at which terms from TF-IDF the model picked as more important.\n",
    "- Data representation: while we used TF-IDF to represent a text (Bag of words approach), we could use other representations.\n",
    "- Use the unsupervised data to learn a better vocabulary for the TF-IDF step.\n",
    "- Use more complex (non-deep-learning-based) models, e.g. SVM, RF, etc.\n",
    "- Use more feature engineering, e.g.\n",
    "  - Count entities like names, locations, etc, and use them as extra features. This can potentially use a Named Entity Recognition (NER) system, e.g. the one in [spaCy](spacy.io).\n",
    "  - Topic features: extract topics to learn more about the dataset / add them as features to improve the classifier. Probably LDA - gensim library - is good enough, but more advanced algos exist like EnsembleLDA.\n",
    "  - Use word embeddings based features.\n",
    "  \n",
    "- Hyper-parameter optimisation (HPO): use e.g. GridSearchCV from sklearn or even Bayesian optimisation, e.g. with [hyperopt](http://hyperopt.github.io/hyperopt/) to optimise the hyper-parameters of the used models, e.g. `C` in Logistic Regression, or the decision threshold.\n",
    "- Better model evaluation, e.g. \n",
    "   - [learning curves](https://scikit-learn.org/stable/modules/learning_curve.html), overfitting vs underfitting analysis, etc.\n",
    "   - nested cross-validation (NCV). Strictly speaking, in order to perform K-fold and HPO properly, one should perform NCV to avoid data leakage."
   ]
  }
 ],
 "metadata": {
  "kernelspec": {
   "display_name": "Python [conda env:feedstock]",
   "language": "python",
   "name": "conda-env-feedstock-py"
  },
  "language_info": {
   "codemirror_mode": {
    "name": "ipython",
    "version": 3
   },
   "file_extension": ".py",
   "mimetype": "text/x-python",
   "name": "python",
   "nbconvert_exporter": "python",
   "pygments_lexer": "ipython3",
   "version": "3.7.6"
  }
 },
 "nbformat": 4,
 "nbformat_minor": 4
}
